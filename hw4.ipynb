{
 "cells": [
  {
   "cell_type": "code",
   "execution_count": 1,
   "metadata": {},
   "outputs": [],
   "source": [
    "import numpy as np"
   ]
  },
  {
   "cell_type": "code",
   "execution_count": 23,
   "metadata": {},
   "outputs": [],
   "source": [
    "A = np.matrix([\n",
    "    [2, 1],\n",
    "    [3, 5],\n",
    "    [5, 7],\n",
    "    [4, 8]\n",
    "])\n",
    "\n",
    "# Matrix B (4x1)\n",
    "B = np.matrix([\n",
    "    [6],\n",
    "    [9],\n",
    "    [3],\n",
    "    [1]\n",
    "])\n",
    "\n",
    "# Matrix C (4x2)\n",
    "C = np.matrix([\n",
    "    [3, 8],\n",
    "    [8, 6],\n",
    "    [5, 1],\n",
    "    [2, 4]\n",
    "])"
   ]
  },
  {
   "cell_type": "code",
   "execution_count": 24,
   "metadata": {},
   "outputs": [
    {
     "data": {
      "text/plain": [
       "matrix([[ 5,  9],\n",
       "        [11, 11],\n",
       "        [10,  8],\n",
       "        [ 6, 12]])"
      ]
     },
     "execution_count": 24,
     "metadata": {},
     "output_type": "execute_result"
    }
   ],
   "source": [
    "A + C"
   ]
  },
  {
   "cell_type": "code",
   "execution_count": 25,
   "metadata": {},
   "outputs": [
    {
     "data": {
      "text/plain": [
       "matrix([[-1, -7],\n",
       "        [-5, -1],\n",
       "        [ 0,  6],\n",
       "        [ 2,  4]])"
      ]
     },
     "execution_count": 25,
     "metadata": {},
     "output_type": "execute_result"
    }
   ],
   "source": [
    "A-C"
   ]
  },
  {
   "cell_type": "code",
   "execution_count": 26,
   "metadata": {},
   "outputs": [
    {
     "data": {
      "text/plain": [
       "matrix([[58, 80]])"
      ]
     },
     "execution_count": 26,
     "metadata": {},
     "output_type": "execute_result"
    }
   ],
   "source": [
    "B.transpose() @ A"
   ]
  },
  {
   "cell_type": "code",
   "execution_count": 27,
   "metadata": {},
   "outputs": [
    {
     "data": {
      "text/plain": [
       "matrix([[14, 22, 11,  8],\n",
       "        [49, 54, 20, 26],\n",
       "        [71, 82, 32, 38],\n",
       "        [76, 80, 28, 40]])"
      ]
     },
     "execution_count": 27,
     "metadata": {},
     "output_type": "execute_result"
    }
   ],
   "source": [
    "A @ C.transpose()"
   ]
  },
  {
   "cell_type": "code",
   "execution_count": 28,
   "metadata": {},
   "outputs": [
    {
     "data": {
      "text/plain": [
       "matrix([[63, 94],\n",
       "        [55, 77]])"
      ]
     },
     "execution_count": 28,
     "metadata": {},
     "output_type": "execute_result"
    }
   ],
   "source": [
    "C.transpose() @ A"
   ]
  },
  {
   "cell_type": "code",
   "execution_count": 51,
   "metadata": {},
   "outputs": [],
   "source": [
    "# Question 3\n",
    "X = np.matrix([[4],[1],[2],[3],[3],[4]])\n",
    "Y = np.matrix([[16], [5],[10],[15], [13], [22]])\n"
   ]
  },
  {
   "cell_type": "code",
   "execution_count": 52,
   "metadata": {},
   "outputs": [
    {
     "data": {
      "text/plain": [
       "matrix([[1259]])"
      ]
     },
     "execution_count": 52,
     "metadata": {},
     "output_type": "execute_result"
    }
   ],
   "source": [
    "Y.transpose()@Y"
   ]
  },
  {
   "cell_type": "code",
   "execution_count": 53,
   "metadata": {},
   "outputs": [
    {
     "data": {
      "text/plain": [
       "matrix([[55]])"
      ]
     },
     "execution_count": 53,
     "metadata": {},
     "output_type": "execute_result"
    }
   ],
   "source": [
    "X.transpose()@X"
   ]
  },
  {
   "cell_type": "code",
   "execution_count": 54,
   "metadata": {},
   "outputs": [
    {
     "data": {
      "text/plain": [
       "matrix([[261]])"
      ]
     },
     "execution_count": 54,
     "metadata": {},
     "output_type": "execute_result"
    }
   ],
   "source": [
    "X.transpose()@Y"
   ]
  },
  {
   "cell_type": "code",
   "execution_count": 55,
   "metadata": {},
   "outputs": [
    {
     "data": {
      "text/plain": [
       "matrix([[0.01818182]])"
      ]
     },
     "execution_count": 55,
     "metadata": {},
     "output_type": "execute_result"
    }
   ],
   "source": [
    "# question 4\n",
    "np.linalg.inv(X.transpose()@X)"
   ]
  },
  {
   "cell_type": "code",
   "execution_count": 57,
   "metadata": {},
   "outputs": [],
   "source": [
    "# question 5\n",
    "X_2 = np.matrix([[8], [4], [0], [-4], [-8]])\n",
    "Y_2 = np.matrix([[7.8], [9.0], [10.2], [11.0], [11.7]])"
   ]
  },
  {
   "cell_type": "code",
   "execution_count": 58,
   "metadata": {},
   "outputs": [
    {
     "data": {
      "text/plain": [
       "matrix([[503.77]])"
      ]
     },
     "execution_count": 58,
     "metadata": {},
     "output_type": "execute_result"
    }
   ],
   "source": [
    "Y_2.transpose()@Y_2"
   ]
  },
  {
   "cell_type": "code",
   "execution_count": 59,
   "metadata": {},
   "outputs": [
    {
     "data": {
      "text/plain": [
       "matrix([[160]])"
      ]
     },
     "execution_count": 59,
     "metadata": {},
     "output_type": "execute_result"
    }
   ],
   "source": [
    "X_2.transpose()@X_2"
   ]
  },
  {
   "cell_type": "code",
   "execution_count": 60,
   "metadata": {},
   "outputs": [
    {
     "data": {
      "text/plain": [
       "matrix([[-39.2]])"
      ]
     },
     "execution_count": 60,
     "metadata": {},
     "output_type": "execute_result"
    }
   ],
   "source": [
    "X_2.transpose()@Y_2"
   ]
  },
  {
   "cell_type": "code",
   "execution_count": 61,
   "metadata": {},
   "outputs": [
    {
     "data": {
      "text/plain": [
       "matrix([[0.00625]])"
      ]
     },
     "execution_count": 61,
     "metadata": {},
     "output_type": "execute_result"
    }
   ],
   "source": [
    "np.linalg.inv(X_2.transpose()@X_2)"
   ]
  },
  {
   "cell_type": "code",
   "execution_count": 64,
   "metadata": {},
   "outputs": [
    {
     "name": "stdout",
     "output_type": "stream",
     "text": [
      "\n",
      "1. Estimated regression coefficients:\n",
      "b0 (intercept): 9.9400\n",
      "b1 (slope): -0.2450\n",
      "\n",
      "2. Residuals:\n",
      "[[-0.18]\n",
      " [ 0.04]\n",
      " [ 0.26]\n",
      " [ 0.08]\n",
      " [-0.2 ]]\n",
      "\n",
      "3. SSR: 9.6040\n",
      "\n",
      "4. SSE: 0.1480\n",
      "\n",
      "5. Variance-covariance matrix of b:\n",
      "[[0.00986667 0.        ]\n",
      " [0.         0.00030833]]\n",
      "\n",
      "6. E(Yh) when Xh = -6: 11.4100\n",
      "\n",
      "7. Var(Yh) when Xh = -6: 0.0210\n",
      "\n",
      "c. Hat matrix H:\n",
      "[[ 0.6  0.4  0.2  0.  -0.2]\n",
      " [ 0.4  0.3  0.2  0.1  0. ]\n",
      " [ 0.2  0.2  0.2  0.2  0.2]\n",
      " [ 0.   0.1  0.2  0.3  0.4]\n",
      " [-0.2  0.   0.2  0.4  0.6]]\n",
      "\n",
      "d. s^2(e): 0.0493\n"
     ]
    }
   ],
   "source": [
    "import numpy as np\n",
    "\n",
    "# Original matrices as shown in Image 2\n",
    "X_2 = np.matrix([[8], [4], [0], [-4], [-8]])\n",
    "Y_2 = np.matrix([[7.8], [9.0], [10.2], [11.0], [11.7]])\n",
    "\n",
    "# Add column of ones for intercept\n",
    "ones = np.ones((X_2.shape[0], 1))\n",
    "X_with_ones = np.hstack([ones, X_2])\n",
    "\n",
    "# a. (1) Vector of estimated regression coefficients\n",
    "b_hat = np.linalg.inv(X_with_ones.T @ X_with_ones) @ X_with_ones.T @ Y_2\n",
    "print(\"\\n1. Estimated regression coefficients:\")\n",
    "print(f\"b0 (intercept): {b_hat[0,0]:.4f}\")\n",
    "print(f\"b1 (slope): {b_hat[1,0]:.4f}\")\n",
    "\n",
    "# a. (2) Vector of residuals\n",
    "Y_pred = X_with_ones @ b_hat\n",
    "residuals = Y_2 - Y_pred\n",
    "print(\"\\n2. Residuals:\")\n",
    "print(residuals)\n",
    "\n",
    "# a. (3) SSR - Sum of Squares Regression\n",
    "Y_mean = np.mean(Y_2)\n",
    "SSR = float(np.sum(np.multiply(Y_pred - Y_mean, Y_pred - Y_mean)))\n",
    "print(f\"\\n3. SSR: {SSR:.4f}\")\n",
    "\n",
    "# a. (4) SSE - Sum of Squares Error\n",
    "SSE = float(np.sum(np.multiply(residuals, residuals)))\n",
    "print(f\"\\n4. SSE: {SSE:.4f}\")\n",
    "\n",
    "# a. (5) Estimated variance-covariance matrix of b\n",
    "MSE = SSE / (X_2.shape[0] - 2)  # n-2 degrees of freedom\n",
    "var_cov_matrix = MSE * np.linalg.inv(X_with_ones.T @ X_with_ones)\n",
    "print(\"\\n5. Variance-covariance matrix of b:\")\n",
    "print(var_cov_matrix)\n",
    "\n",
    "# a. (6) Point estimate of E{Yh} when Xh = -6\n",
    "X_h = np.matrix([[1, -6]])  # Design vector for Xh = -6\n",
    "E_Y_h = (X_h @ b_hat)[0, 0]  # Extract single element\n",
    "print(f\"\\n6. E(Yh) when Xh = -6: {E_Y_h:.4f}\")\n",
    "\n",
    "# a. (7) Estimated variance of Yh when Xh = -6\n",
    "var_Y_h = MSE * float((X_h @ np.linalg.inv(X_with_ones.T @ X_with_ones) @ X_h.T)[0, 0])\n",
    "print(f\"\\n7. Var(Yh) when Xh = -6: {var_Y_h:.4f}\")\n",
    "\n",
    "# c. Hat matrix H\n",
    "H = X_with_ones @ np.linalg.inv(X_with_ones.T @ X_with_ones) @ X_with_ones.T\n",
    "print(\"\\nc. Hat matrix H:\")\n",
    "print(H)\n",
    "\n",
    "# d. s^2{e}\n",
    "s2_e = SSE / (X_2.shape[0] - 2)  # Same as MSE calculated earlier\n",
    "print(f\"\\nd. s^2(e): {s2_e:.4f}\")"
   ]
  },
  {
   "cell_type": "code",
   "execution_count": null,
   "metadata": {},
   "outputs": [],
   "source": []
  }
 ],
 "metadata": {
  "kernelspec": {
   "display_name": "base",
   "language": "python",
   "name": "python3"
  },
  "language_info": {
   "codemirror_mode": {
    "name": "ipython",
    "version": 3
   },
   "file_extension": ".py",
   "mimetype": "text/x-python",
   "name": "python",
   "nbconvert_exporter": "python",
   "pygments_lexer": "ipython3",
   "version": "3.11.5"
  }
 },
 "nbformat": 4,
 "nbformat_minor": 2
}
